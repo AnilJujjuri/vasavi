{
 "cells": [
  {
   "cell_type": "code",
   "execution_count": null,
   "id": "8dfec447",
   "metadata": {},
   "outputs": [
    {
     "name": "stdout",
     "output_type": "stream",
     "text": [
      "19\n",
      "18\n",
      "20\n",
      "19\n",
      "23\n",
      "11\n",
      "10\n",
      "25\n",
      "14\n",
      "12\n",
      "23\n",
      "18\n",
      "10\n",
      "20\n",
      "13\n",
      "15\n",
      "19\n",
      "24\n",
      "18\n",
      "13\n",
      "17\n",
      "23\n",
      "15\n",
      "25\n",
      "12\n",
      "22\n",
      "18\n",
      "22\n",
      "14\n",
      "24\n",
      "13\n"
     ]
    }
   ],
   "source": [
    "import paho.mqtt.client as mqtt\n",
    "import random\n",
    "import time\n",
    "\n",
    "\n",
    "brokerAddress = \"broker.hivemq.com\"\n",
    "userName = \"vasavi\"\n",
    "passWord = \"Chinnu@123\"\n",
    "\n",
    "topic = \"Sensor/Temperature/TMP36\"\n",
    "# topic2= \"Sensor/Temperature/TMP34\"\n",
    "\n",
    "min = 10\n",
    "max = 25\n",
    "\n",
    "def on_connect(client, userdata, flags, rc):\n",
    "    if rc == 0:\n",
    "        print(\"Connected successfully\")\n",
    "    else:\n",
    "        print(\"Connect returned result code: \" + str(rc))\n",
    "\n",
    "        \n",
    "def on_message(client, userdata, msg):\n",
    "    print(\"Received message:\" +msg.topic + \"->\" + msg.payload.decode(\"utf-8\"))\n",
    "\n",
    "    \n",
    "# create the client\n",
    "client = mqtt.Client()\n",
    "\n",
    "\n",
    "client.on_connect = on_connect\n",
    "\n",
    "\n",
    "client.on_message = on_message\n",
    "\n",
    "\n",
    "client.tls_set(tls_version=mqtt.ssl.PROTOCOL_TLS)\n",
    "client.username_pw_set(userName, passWord)\n",
    "client.connect(brokerAddress, 8883)\n",
    "\n",
    "# Publish Temperature Data \n",
    "wait = 20\n",
    "while True:\n",
    "    data = random.randint(min, max)\n",
    "    print(data)\n",
    "    \n",
    "    client.publish(topic, data)\n",
    "    time.sleep(wait)"
   ]
  },
  {
   "cell_type": "code",
   "execution_count": null,
   "id": "449f0950",
   "metadata": {},
   "outputs": [],
   "source": []
  },
  {
   "cell_type": "code",
   "execution_count": null,
   "id": "b4963214",
   "metadata": {},
   "outputs": [],
   "source": []
  }
 ],
 "metadata": {
  "kernelspec": {
   "display_name": "Python 3 (ipykernel)",
   "language": "python",
   "name": "python3"
  },
  "language_info": {
   "codemirror_mode": {
    "name": "ipython",
    "version": 3
   },
   "file_extension": ".py",
   "mimetype": "text/x-python",
   "name": "python",
   "nbconvert_exporter": "python",
   "pygments_lexer": "ipython3",
   "version": "3.9.13"
  }
 },
 "nbformat": 4,
 "nbformat_minor": 5
}
