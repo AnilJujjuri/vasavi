{
 "cells": [
  {
   "cell_type": "code",
   "execution_count": null,
   "id": "8dfec447",
   "metadata": {},
   "outputs": [
    {
     "name": "stdout",
     "output_type": "stream",
     "text": [
      "26\n",
      "20\n",
      "20\n",
      "26\n"
     ]
    }
   ],
   "source": [
    "import paho.mqtt.client as mqtt\n",
    "import random\n",
    "import time\n",
    "\n",
    "\n",
    "brokerAddress = \"broker.hivemq.com\"\n",
    "userName = \"vasavi\"\n",
    "passWord = \"Chinnu@123\"\n",
    "\n",
    "topic = \"Sensor/Temperature/TMP36\"\n",
    "\n",
    "min = 20\n",
    "max = 30\n",
    "\n",
    "def on_connect(client, userdata, flags, rc):\n",
    "    if rc == 0:\n",
    "        print(\"Connected successfully\")\n",
    "    else:\n",
    "        print(\"Connect returned result code: \" + str(rc))\n",
    "\n",
    "        \n",
    "def on_message(client, userdata, msg):\n",
    "    print(\"Received message:\" +msg.topic + \"->\" + msg.payload.decode(\"utf-8\"))\n",
    "\n",
    "    \n",
    "# create the client\n",
    "client = mqtt.Client()\n",
    "client.on_connect = on_connect\n",
    "client.on_message = on_message\n",
    "\n",
    "client.tls_set(tls_version=mqtt.ssl.PROTOCOL_TLS)\n",
    "client.username_pw_set(userName, passWord)\n",
    "client.connect(brokerAddress, 8883)\n",
    "\n",
    "# Publish Temperature Data \n",
    "wait = 20\n",
    "while True:\n",
    "    data = random.randint(min, max)\n",
    "    print(data)\n",
    "    client.publish(topic, data)\n",
    "    time.sleep(wait)"
   ]
  },
  {
   "cell_type": "code",
   "execution_count": 1,
   "id": "d4286231",
   "metadata": {},
   "outputs": [
    {
     "name": "stdout",
     "output_type": "stream",
     "text": [
      "Collecting paho-mqtt\n",
      "  Downloading paho-mqtt-1.6.1.tar.gz (99 kB)\n",
      "     --------------------------------------- 99.4/99.4 kB 17.0 kB/s eta 0:00:00\n",
      "  Preparing metadata (setup.py): started\n",
      "  Preparing metadata (setup.py): finished with status 'done'\n",
      "Building wheels for collected packages: paho-mqtt\n",
      "  Building wheel for paho-mqtt (setup.py): started\n",
      "  Building wheel for paho-mqtt (setup.py): finished with status 'done'\n",
      "  Created wheel for paho-mqtt: filename=paho_mqtt-1.6.1-py3-none-any.whl size=65434 sha256=fe2cabc9b1c2eb6d435494cd7eb7f7ab7d9d7d79739da4d7fbbc1158dfafac2e\n",
      "  Stored in directory: c:\\users\\40027782\\appdata\\local\\pip\\cache\\wheels\\0f\\90\\29\\db29bb8ddc98ec5f2363b959130c9ddbcf5cfdb4a00b6184dd\n",
      "Successfully built paho-mqtt\n",
      "Installing collected packages: paho-mqtt\n",
      "Successfully installed paho-mqtt-1.6.1\n",
      "Note: you may need to restart the kernel to use updated packages.\n"
     ]
    }
   ],
   "source": [
    "pip install paho-mqtt"
   ]
  },
  {
   "cell_type": "code",
   "execution_count": null,
   "id": "6c5f6029",
   "metadata": {},
   "outputs": [],
   "source": []
  }
 ],
 "metadata": {
  "kernelspec": {
   "display_name": "Python 3 (ipykernel)",
   "language": "python",
   "name": "python3"
  },
  "language_info": {
   "codemirror_mode": {
    "name": "ipython",
    "version": 3
   },
   "file_extension": ".py",
   "mimetype": "text/x-python",
   "name": "python",
   "nbconvert_exporter": "python",
   "pygments_lexer": "ipython3",
   "version": "3.9.13"
  }
 },
 "nbformat": 4,
 "nbformat_minor": 5
}
