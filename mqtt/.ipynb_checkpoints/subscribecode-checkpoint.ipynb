{
 "cells": [
  {
   "cell_type": "code",
   "execution_count": null,
   "id": "9f8580fb",
   "metadata": {},
   "outputs": [
    {
     "name": "stdout",
     "output_type": "stream",
     "text": [
      "Connected successfully\n",
      "Received message:Sensor/Temperature/TMP36->29\n"
     ]
    }
   ],
   "source": [
    "import paho.mqtt.client as mqtt\n",
    "\n",
    "brokerAddress = \"broker.hivemq.com\"\n",
    "userName = \"vasavi\"\n",
    "passWord = \"Chinnu@123\"\n",
    "\n",
    "topic = \"Sensor/Temperature/TMP36\"\n",
    "\n",
    "def on_connect(client, userdata, flags, rc):\n",
    "    if rc == 0:\n",
    "        print(\"Connected successfully\")\n",
    "    else:\n",
    "        print(\"Connect returned result code: \" + str(rc))\n",
    "\n",
    "        \n",
    "def on_message(client, userdata, msg):\n",
    "    print(\"Received message:\" +msg.topic + \"->\" + msg.payload.decode(\"utf-8\"))\n",
    "\n",
    "# create the client\n",
    "client = mqtt.Client()\n",
    "client.on_connect = on_connect\n",
    "client.on_message = on_message\n",
    "client.tls_set(tls_version=mqtt.ssl.PROTOCOL_TLS)\n",
    "client.username_pw_set(userName, passWord)\n",
    "client.connect(brokerAddress, 8883)\n",
    "client.subscribe(topic)\n",
    "client.loop_forever()"
   ]
  },
  {
   "cell_type": "code",
   "execution_count": null,
   "id": "27a39bd7",
   "metadata": {},
   "outputs": [],
   "source": []
  }
 ],
 "metadata": {
  "kernelspec": {
   "display_name": "Python 3 (ipykernel)",
   "language": "python",
   "name": "python3"
  },
  "language_info": {
   "codemirror_mode": {
    "name": "ipython",
    "version": 3
   },
   "file_extension": ".py",
   "mimetype": "text/x-python",
   "name": "python",
   "nbconvert_exporter": "python",
   "pygments_lexer": "ipython3",
   "version": "3.9.13"
  }
 },
 "nbformat": 4,
 "nbformat_minor": 5
}
